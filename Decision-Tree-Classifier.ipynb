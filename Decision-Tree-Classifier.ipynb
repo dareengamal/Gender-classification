{
  "cells": [
    {
      "cell_type": "code",
      "execution_count": null,
      "metadata": {
        "colab": {
          "base_uri": "https://localhost:8080/"
        },
        "id": "u2xZyze9YDwy",
        "outputId": "40ba3598-cd82-4aac-a74f-34e5bab67579"
      },
      "outputs": [
        {
          "name": "stdout",
          "output_type": "stream",
          "text": [
            "Looking in indexes: https://pypi.org/simple, https://us-python.pkg.dev/colab-wheels/public/simple/\n",
            "Collecting pyspark\n",
            "  Downloading pyspark-3.4.0.tar.gz (310.8 MB)\n",
            "\u001b[2K     \u001b[90m━━━━━━━━━━━━━━━━━━━━━━━━━━━━━━━━━━━━━━━\u001b[0m \u001b[32m310.8/310.8 MB\u001b[0m \u001b[31m2.7 MB/s\u001b[0m eta \u001b[36m0:00:00\u001b[0m\n",
            "\u001b[?25h  Preparing metadata (setup.py) ... \u001b[?25l\u001b[?25hdone\n",
            "Requirement already satisfied: py4j==0.10.9.7 in /usr/local/lib/python3.10/dist-packages (from pyspark) (0.10.9.7)\n",
            "Building wheels for collected packages: pyspark\n",
            "  Building wheel for pyspark (setup.py) ... \u001b[?25l\u001b[?25hdone\n",
            "  Created wheel for pyspark: filename=pyspark-3.4.0-py2.py3-none-any.whl size=311317130 sha256=8efa6dc2717a98447d4cc87449a0f26342567b587b8d169c90612b60da605a96\n",
            "  Stored in directory: /root/.cache/pip/wheels/7b/1b/4b/3363a1d04368e7ff0d408e57ff57966fcdf00583774e761327\n",
            "Successfully built pyspark\n",
            "Installing collected packages: pyspark\n",
            "Successfully installed pyspark-3.4.0\n"
          ]
        }
      ],
      "source": [
        "!pip install pyspark"
      ]
    },
    {
      "cell_type": "markdown",
      "metadata": {
        "id": "0BGdd83HZo7X"
      },
      "source": [
        "# ***Decision Tree Classifier***"
      ]
    },
    {
      "cell_type": "code",
      "execution_count": null,
      "metadata": {
        "id": "3QgDUe1qYIlX"
      },
      "outputs": [],
      "source": [
        "from pyspark.sql import SparkSession\n",
        "from pyspark.ml import Pipeline\n",
        "from pyspark.ml.feature import VectorAssembler\n",
        "from pyspark.ml.classification import LogisticRegression\n",
        "from sklearn.metrics import accuracy_score\n",
        "from pyspark.ml.feature import OneHotEncoder, StringIndexer, VectorAssembler\n",
        "from pyspark.ml import Pipeline\n",
        "from pyspark.ml.feature import VectorAssembler\n",
        "from pyspark.ml.classification import LogisticRegression\n",
        "from sklearn.metrics import accuracy_score\n",
        "from pyspark.sql import SparkSession\n",
        "import pandas as pd"
      ]
    },
    {
      "cell_type": "code",
      "execution_count": null,
      "metadata": {
        "colab": {
          "base_uri": "https://localhost:8080/"
        },
        "id": "XNG2veeeYg13",
        "outputId": "06f1ac5f-dd29-4279-839c-ad98be95b86c"
      },
      "outputs": [
        {
          "name": "stdout",
          "output_type": "stream",
          "text": [
            "root\n",
            " |-- long_hair: integer (nullable = true)\n",
            " |-- forehead_width_cm: double (nullable = true)\n",
            " |-- forehead_height_cm: double (nullable = true)\n",
            " |-- nose_wide: integer (nullable = true)\n",
            " |-- nose_long: integer (nullable = true)\n",
            " |-- lips_thin: integer (nullable = true)\n",
            " |-- distance_nose_to_lip_long: integer (nullable = true)\n",
            " |-- gender: string (nullable = true)\n",
            "\n"
          ]
        }
      ],
      "source": [
        "spark = SparkSession.builder.appName('ml-bank').getOrCreate()\n",
        "df = spark.read.csv('genders.csv', header = True, inferSchema = True)\n",
        "df.printSchema()\n",
        "cols = df.columns"
      ]
    },
    {
      "cell_type": "code",
      "execution_count": null,
      "metadata": {
        "colab": {
          "base_uri": "https://localhost:8080/"
        },
        "id": "rVZ5_EX2hn9O",
        "outputId": "5ee903ff-9ac8-46a5-c12f-c1e495b275cc"
      },
      "outputs": [
        {
          "name": "stdout",
          "output_type": "stream",
          "text": [
            "+------+--------------------+---------+-----------------+------------------+---------+---------+---------+-------------------------+------+------------+\n",
            "|gender|      feature_vector|long_hair|forehead_width_cm|forehead_height_cm|nose_wide|nose_long|lips_thin|distance_nose_to_lip_long|gender|gender_index|\n",
            "+------+--------------------+---------+-----------------+------------------+---------+---------+---------+-------------------------+------+------------+\n",
            "|  Male|[1.0,11.8,6.1,1.0...|        1|             11.8|               6.1|        1|        0|        1|                        1|  Male|         1.0|\n",
            "|Female|(7,[1,2,5],[14.0,...|        0|             14.0|               5.4|        0|        0|        1|                        0|Female|         0.0|\n",
            "|  Male|[0.0,11.8,6.3,1.0...|        0|             11.8|               6.3|        1|        1|        1|                        1|  Male|         1.0|\n",
            "|  Male|[0.0,14.4,6.1,0.0...|        0|             14.4|               6.1|        0|        1|        1|                        1|  Male|         1.0|\n",
            "|Female|(7,[0,1,2],[1.0,1...|        1|             13.5|               5.9|        0|        0|        0|                        0|Female|         0.0|\n",
            "|  Male|[1.0,13.0,6.8,1.0...|        1|             13.0|               6.8|        1|        1|        1|                        1|  Male|         1.0|\n",
            "|  Male|[1.0,15.3,6.2,1.0...|        1|             15.3|               6.2|        1|        1|        1|                        0|  Male|         1.0|\n",
            "|Female|(7,[1,2],[13.0,5.2])|        0|             13.0|               5.2|        0|        0|        0|                        0|Female|         0.0|\n",
            "|Female|[1.0,11.9,5.4,1.0...|        1|             11.9|               5.4|        1|        0|        1|                        1|Female|         0.0|\n",
            "|Female|(7,[0,1,2],[1.0,1...|        1|             12.1|               5.4|        0|        0|        0|                        0|Female|         0.0|\n",
            "|  Male|[0.0,12.5,5.4,1.0...|        0|             12.5|               5.4|        1|        1|        1|                        1|  Male|         1.0|\n",
            "|  Male|[1.0,15.5,5.8,1.0...|        1|             15.5|               5.8|        1|        1|        1|                        1|  Male|         1.0|\n",
            "|  Male|[0.0,14.7,5.2,1.0...|        0|             14.7|               5.2|        1|        1|        1|                        1|  Male|         1.0|\n",
            "|  Male|[1.0,14.5,6.7,0.0...|        1|             14.5|               6.7|        0|        1|        1|                        1|  Male|         1.0|\n",
            "|Female|(7,[0,1,2],[1.0,1...|        1|             14.2|               6.5|        0|        0|        0|                        0|Female|         0.0|\n",
            "|  Male|[0.0,12.5,5.2,1.0...|        0|             12.5|               5.2|        1|        1|        1|                        1|  Male|         1.0|\n",
            "|  Male|[1.0,15.2,6.0,1.0...|        1|             15.2|               6.0|        1|        1|        1|                        1|  Male|         1.0|\n",
            "|Female|(7,[0,1,2],[1.0,1...|        1|             14.0|               5.9|        0|        0|        0|                        0|Female|         0.0|\n",
            "|Female|(7,[0,1,2],[1.0,1...|        1|             11.9|               5.2|        0|        0|        0|                        0|Female|         0.0|\n",
            "|  Male|[1.0,14.4,5.6,1.0...|        1|             14.4|               5.6|        1|        0|        1|                        1|  Male|         1.0|\n",
            "+------+--------------------+---------+-----------------+------------------+---------+---------+---------+-------------------------+------+------------+\n",
            "only showing top 20 rows\n",
            "\n"
          ]
        }
      ],
      "source": [
        "gender_indexer = StringIndexer(inputCol=\"gender\", outputCol=\"gender_index\")\n",
        "df = gender_indexer.fit(df).transform(df)\n",
        "df.show()"
      ]
    },
    {
      "cell_type": "markdown",
      "metadata": {
        "id": "4KnHLMJVcDI3"
      },
      "source": [
        "\n",
        "*   **input variables: long_hair,forehead_width_cm,forehead_height_cm,nose_wide,nose_long,lips_thin,distance_nose_to_lip_long**\n",
        "*   **output variables: gender**\n"
      ]
    },
    {
      "cell_type": "code",
      "execution_count": null,
      "metadata": {
        "id": "rjylMhAjeLxk"
      },
      "outputs": [],
      "source": [
        "from pyspark.ml.feature import OneHotEncoder, StringIndexer, VectorAssembler\n",
        "\n",
        "numericCols = ['long_hair','forehead_width_cm','forehead_height_cm','nose_wide',\n",
        "               'nose_long','lips_thin','distance_nose_to_lip_long']\n",
        "featurizationPipeline = Pipeline(stages = [VectorAssembler(inputCols=numericCols, outputCol=\"feature\")])\n"
      ]
    },
    {
      "cell_type": "code",
      "execution_count": null,
      "metadata": {
        "colab": {
          "base_uri": "https://localhost:8080/"
        },
        "id": "eDaPm5Lsei70",
        "outputId": "ba0274fb-9215-4734-d39c-e105a62adae1"
      },
      "outputs": [
        {
          "name": "stdout",
          "output_type": "stream",
          "text": [
            "root\n",
            " |-- gender_index: double (nullable = false)\n",
            " |-- feature: vector (nullable = true)\n",
            " |-- long_hair: integer (nullable = true)\n",
            " |-- forehead_width_cm: double (nullable = true)\n",
            " |-- forehead_height_cm: double (nullable = true)\n",
            " |-- nose_wide: integer (nullable = true)\n",
            " |-- nose_long: integer (nullable = true)\n",
            " |-- lips_thin: integer (nullable = true)\n",
            " |-- distance_nose_to_lip_long: integer (nullable = true)\n",
            " |-- gender: string (nullable = true)\n",
            "\n"
          ]
        }
      ],
      "source": [
        "from pyspark.ml import Pipeline\n",
        "\n",
        "pipelineModel = featurizationPipeline.fit(df)\n",
        "df = pipelineModel.transform(df)\n",
        "selectedCols = ['gender_index', 'feature'] + cols\n",
        "df = df.select(selectedCols)\n",
        "df.printSchema()"
      ]
    },
    {
      "cell_type": "code",
      "execution_count": null,
      "metadata": {
        "colab": {
          "base_uri": "https://localhost:8080/"
        },
        "id": "1LytISlUgSk6",
        "outputId": "e5da8ac4-2cbc-4c51-e023-0a3fed16ed92"
      },
      "outputs": [
        {
          "name": "stdout",
          "output_type": "stream",
          "text": [
            "Training Dataset Count: 3539\n",
            "Test Dataset Count: 1462\n"
          ]
        }
      ],
      "source": [
        "train, test = df.randomSplit([0.7, 0.3], seed = 2018)\n",
        "print(\"Training Dataset Count: \" + str(train.count()))\n",
        "print(\"Test Dataset Count: \" + str(test.count()))"
      ]
    },
    {
      "cell_type": "code",
      "execution_count": null,
      "metadata": {
        "colab": {
          "base_uri": "https://localhost:8080/"
        },
        "id": "cPDGmz4egZi5",
        "outputId": "73e66b8d-4eee-4a04-d6dc-d4e6b86db809"
      },
      "outputs": [
        {
          "name": "stdout",
          "output_type": "stream",
          "text": [
            "+---------+-----------------+------+-------------+----------+--------------------+\n",
            "|long_hair|forehead_width_cm|gender|rawPrediction|prediction|         probability|\n",
            "+---------+-----------------+------+-------------+----------+--------------------+\n",
            "|        1|             11.4|Female|[1373.0,20.0]|       0.0|[0.98564249820531...|\n",
            "|        1|             11.4|Female|[1373.0,20.0]|       0.0|[0.98564249820531...|\n",
            "|        1|             11.4|Female|[1373.0,20.0]|       0.0|[0.98564249820531...|\n",
            "|        1|             11.4|Female|[1373.0,20.0]|       0.0|[0.98564249820531...|\n",
            "|        1|             11.4|Female|[1373.0,20.0]|       0.0|[0.98564249820531...|\n",
            "|        1|             11.4|Female|[1373.0,20.0]|       0.0|[0.98564249820531...|\n",
            "|        1|             11.4|Female|[1373.0,20.0]|       0.0|[0.98564249820531...|\n",
            "|        1|             11.4|Female|[1373.0,20.0]|       0.0|[0.98564249820531...|\n",
            "|        1|             11.4|Female|[1373.0,20.0]|       0.0|[0.98564249820531...|\n",
            "|        1|             11.4|Female|[1373.0,20.0]|       0.0|[0.98564249820531...|\n",
            "+---------+-----------------+------+-------------+----------+--------------------+\n",
            "only showing top 10 rows\n",
            "\n"
          ]
        }
      ],
      "source": [
        "from pyspark.ml.classification import DecisionTreeClassifier\n",
        "dt = DecisionTreeClassifier(featuresCol = 'feature', labelCol = 'gender_index', maxDepth = 3)\n",
        "dtModel = dt.fit(train)\n",
        "predictions = dtModel.transform(test)\n",
        "predictions.select('long_hair', 'forehead_width_cm', 'gender', 'rawPrediction', 'prediction', 'probability').show(10)"
      ]
    },
    {
      "cell_type": "code",
      "execution_count": null,
      "metadata": {
        "colab": {
          "base_uri": "https://localhost:8080/"
        },
        "id": "b0QnZqEhmK1d",
        "outputId": "882a34ca-62fc-4314-993d-24c430f6d6a7"
      },
      "outputs": [
        {
          "name": "stdout",
          "output_type": "stream",
          "text": [
            "Decision Tree Accuracy = 96.85362517099864 %\n"
          ]
        }
      ],
      "source": [
        "true_labels=predictions.select('gender_index')\n",
        "dt_predictions=predictions.select('prediction')\n",
        "\n",
        "accuracy = accuracy_score(true_labels.toPandas(), dt_predictions.toPandas())\n",
        "print(\"Decision Tree Accuracy =\",accuracy*100,\"%\")"
      ]
    }
  ],
  "metadata": {
    "colab": {
      "provenance": []
    },
    "kernelspec": {
      "display_name": "Python 3.9.6 64-bit",
      "language": "python",
      "name": "python3"
    },
    "language_info": {
      "name": "python",
      "version": "3.9.6"
    },
    "vscode": {
      "interpreter": {
        "hash": "31f2aee4e71d21fbe5cf8b01ff0e069b9275f58929596ceb00d14d90e3e16cd6"
      }
    }
  },
  "nbformat": 4,
  "nbformat_minor": 0
}
